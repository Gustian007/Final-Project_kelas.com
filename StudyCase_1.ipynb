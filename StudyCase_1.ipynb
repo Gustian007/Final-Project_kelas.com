{
 "cells": [
  {
   "cell_type": "markdown",
   "id": "354a427e-f18f-4721-bc14-7ee109f7e80f",
   "metadata": {},
   "source": [
    "# Import Libraries "
   ]
  },
  {
   "cell_type": "code",
   "execution_count": 2,
   "id": "85e22331-9c82-4250-8c8a-2a92b3ce6c64",
   "metadata": {},
   "outputs": [],
   "source": [
    "import pandas as pd\n",
    "import numpy as np\n",
    "import scipy.stats as stats"
   ]
  },
  {
   "cell_type": "markdown",
   "id": "6ad49fb9-10d1-4c0f-8613-b9940f1c2f84",
   "metadata": {},
   "source": [
    "# Creating DataFrame"
   ]
  },
  {
   "cell_type": "code",
   "execution_count": 4,
   "id": "fee20714-4358-4d38-b946-fec15d6c6537",
   "metadata": {},
   "outputs": [],
   "source": [
    "df = pd.DataFrame({\"Transaction_Amount\":[100,150,50,100,130,120,100,85,70,150,150,120,50,100,100,140,90,150,50,90,120,100,110,75,65]})"
   ]
  },
  {
   "cell_type": "code",
   "execution_count": 5,
   "id": "e830a257-b013-4bc9-8ffb-430184095896",
   "metadata": {},
   "outputs": [
    {
     "data": {
      "text/html": [
       "<div>\n",
       "<style scoped>\n",
       "    .dataframe tbody tr th:only-of-type {\n",
       "        vertical-align: middle;\n",
       "    }\n",
       "\n",
       "    .dataframe tbody tr th {\n",
       "        vertical-align: top;\n",
       "    }\n",
       "\n",
       "    .dataframe thead th {\n",
       "        text-align: right;\n",
       "    }\n",
       "</style>\n",
       "<table border=\"1\" class=\"dataframe\">\n",
       "  <thead>\n",
       "    <tr style=\"text-align: right;\">\n",
       "      <th></th>\n",
       "      <th>Transaction_Amount</th>\n",
       "    </tr>\n",
       "  </thead>\n",
       "  <tbody>\n",
       "    <tr>\n",
       "      <th>0</th>\n",
       "      <td>100</td>\n",
       "    </tr>\n",
       "    <tr>\n",
       "      <th>1</th>\n",
       "      <td>150</td>\n",
       "    </tr>\n",
       "    <tr>\n",
       "      <th>2</th>\n",
       "      <td>50</td>\n",
       "    </tr>\n",
       "    <tr>\n",
       "      <th>3</th>\n",
       "      <td>100</td>\n",
       "    </tr>\n",
       "    <tr>\n",
       "      <th>4</th>\n",
       "      <td>130</td>\n",
       "    </tr>\n",
       "    <tr>\n",
       "      <th>5</th>\n",
       "      <td>120</td>\n",
       "    </tr>\n",
       "    <tr>\n",
       "      <th>6</th>\n",
       "      <td>100</td>\n",
       "    </tr>\n",
       "    <tr>\n",
       "      <th>7</th>\n",
       "      <td>85</td>\n",
       "    </tr>\n",
       "    <tr>\n",
       "      <th>8</th>\n",
       "      <td>70</td>\n",
       "    </tr>\n",
       "    <tr>\n",
       "      <th>9</th>\n",
       "      <td>150</td>\n",
       "    </tr>\n",
       "    <tr>\n",
       "      <th>10</th>\n",
       "      <td>150</td>\n",
       "    </tr>\n",
       "    <tr>\n",
       "      <th>11</th>\n",
       "      <td>120</td>\n",
       "    </tr>\n",
       "    <tr>\n",
       "      <th>12</th>\n",
       "      <td>50</td>\n",
       "    </tr>\n",
       "    <tr>\n",
       "      <th>13</th>\n",
       "      <td>100</td>\n",
       "    </tr>\n",
       "    <tr>\n",
       "      <th>14</th>\n",
       "      <td>100</td>\n",
       "    </tr>\n",
       "    <tr>\n",
       "      <th>15</th>\n",
       "      <td>140</td>\n",
       "    </tr>\n",
       "    <tr>\n",
       "      <th>16</th>\n",
       "      <td>90</td>\n",
       "    </tr>\n",
       "    <tr>\n",
       "      <th>17</th>\n",
       "      <td>150</td>\n",
       "    </tr>\n",
       "    <tr>\n",
       "      <th>18</th>\n",
       "      <td>50</td>\n",
       "    </tr>\n",
       "    <tr>\n",
       "      <th>19</th>\n",
       "      <td>90</td>\n",
       "    </tr>\n",
       "    <tr>\n",
       "      <th>20</th>\n",
       "      <td>120</td>\n",
       "    </tr>\n",
       "    <tr>\n",
       "      <th>21</th>\n",
       "      <td>100</td>\n",
       "    </tr>\n",
       "    <tr>\n",
       "      <th>22</th>\n",
       "      <td>110</td>\n",
       "    </tr>\n",
       "    <tr>\n",
       "      <th>23</th>\n",
       "      <td>75</td>\n",
       "    </tr>\n",
       "    <tr>\n",
       "      <th>24</th>\n",
       "      <td>65</td>\n",
       "    </tr>\n",
       "  </tbody>\n",
       "</table>\n",
       "</div>"
      ],
      "text/plain": [
       "    Transaction_Amount\n",
       "0                  100\n",
       "1                  150\n",
       "2                   50\n",
       "3                  100\n",
       "4                  130\n",
       "5                  120\n",
       "6                  100\n",
       "7                   85\n",
       "8                   70\n",
       "9                  150\n",
       "10                 150\n",
       "11                 120\n",
       "12                  50\n",
       "13                 100\n",
       "14                 100\n",
       "15                 140\n",
       "16                  90\n",
       "17                 150\n",
       "18                  50\n",
       "19                  90\n",
       "20                 120\n",
       "21                 100\n",
       "22                 110\n",
       "23                  75\n",
       "24                  65"
      ]
     },
     "execution_count": 5,
     "metadata": {},
     "output_type": "execute_result"
    }
   ],
   "source": [
    "df"
   ]
  },
  {
   "cell_type": "markdown",
   "id": "0d7c74ca-9be1-422e-a264-a0c84c330fcd",
   "metadata": {},
   "source": [
    "# Measures of Central Tendency"
   ]
  },
  {
   "cell_type": "code",
   "execution_count": 7,
   "id": "5c6e6e65-b433-4b3f-82f1-61192f1f7f92",
   "metadata": {},
   "outputs": [
    {
     "name": "stdout",
     "output_type": "stream",
     "text": [
      "Mean: 102.6\n",
      "Median: 100.0\n",
      "Modus: [100]\n"
     ]
    }
   ],
   "source": [
    "# Measures of Central Tendency (Mean, Median, Mode)\n",
    "mean_val = df['Transaction_Amount'].mean()\n",
    "median_val = df['Transaction_Amount'].median()\n",
    "mode_val = df['Transaction_Amount'].mode()\n",
    "\n",
    "print(\"Mean:\", mean_val)\n",
    "print(\"Median:\", median_val)\n",
    "print(\"Modus:\", mode_val.tolist())\n"
   ]
  },
  {
   "cell_type": "markdown",
   "id": "e0431ded-2584-4d3f-a7cf-1a3bc2dbf359",
   "metadata": {},
   "source": [
    "## Analisis\n",
    "- Sebagian besar transaksi cenderung berada di sekitar nilai 100.\n",
    "- Mean sedikit lebih besar dari median, kemungkinan distribusi miring ke kanan (right-skewed)\n",
    "- Terdapat beberapa transaksi dengan jumlah yang lebih tinggi dari mayoritas\n",
    "- Median dan Modus sama, artinya meskipun ada kenaikan di beberapa transaksi, mayoritas penjualan masih stabil di angka 100."
   ]
  },
  {
   "cell_type": "markdown",
   "id": "9310e4fa-4d6f-4067-931b-b6ace5a6fc1a",
   "metadata": {},
   "source": [
    "# Measures of Variability "
   ]
  },
  {
   "cell_type": "code",
   "execution_count": 10,
   "id": "8c121bd7-f2f9-4a71-ae91-8a94f6592ce6",
   "metadata": {},
   "outputs": [
    {
     "name": "stdout",
     "output_type": "stream",
     "text": [
      "Max : 150\n",
      "Min : 50\n",
      "Range : 100\n",
      "Variance : 1012.7499999999997\n",
      "Standard Deviations : 31.82373328193912\n",
      "Quantile 0.25 (Q1): 85.0\n",
      "Quantile 0.5 (Median): 100.0\n",
      "Quantile 0.75 (Q3): 120.0\n"
     ]
    }
   ],
   "source": [
    "# Measures of Variability (range, variance, Standard Deviation, min&max, Quantile (1,2,3))\n",
    "\n",
    "max_val = df['Transaction_Amount'].max()\n",
    "min_val = df['Transaction_Amount'].min()\n",
    "range_val = df['Transaction_Amount'].max() - df['Transaction_Amount'].min()\n",
    "variance_val = df['Transaction_Amount'].var()\n",
    "std_dev = df['Transaction_Amount'].std()\n",
    "Q1 = df['Transaction_Amount'].quantile(0.25)\n",
    "Q2 = df['Transaction_Amount'].median()\n",
    "Q3 = df['Transaction_Amount'].quantile(0.75)\n",
    "\n",
    "print(\"Max :\", max_val)\n",
    "print(\"Min :\", min_val)\n",
    "print(\"Range :\", range_val)\n",
    "print(\"Variance :\", variance_val)\n",
    "print(\"Standard Deviations :\", std_dev)\n",
    "print(\"Quantile 0.25 (Q1):\", Q1)\n",
    "print(\"Quantile 0.5 (Median):\", Q2)\n",
    "print(\"Quantile 0.75 (Q3):\", Q3)"
   ]
  },
  {
   "cell_type": "markdown",
   "id": "e2641c16-e14f-47f3-9065-eef609e8f060",
   "metadata": {},
   "source": [
    "## Analisa\n",
    "Sebaran data cukup luas, dengan standar deviasi menunjukkan bahwa nilai transaksi bervariasi sekitar ±31.82 dari rata-rata. IQR (35) yang relatif kecil dibandingkan range menunjukkan bahwa sebagian besar data berada pada rentang 85–120, sementara nilai ekstrem berada di luar rentang tersebut dan hanya memengaruhi sebagian kecil data."
   ]
  },
  {
   "cell_type": "markdown",
   "id": "ea211c27-a31c-478c-8a65-ac95d96f0e7a",
   "metadata": {},
   "source": [
    "# H0 dan H1\n",
    "H0 = Tidak ada perubahan rata-rata transaksi μ = 100\n",
    "\n",
    "H1 = Ada peningkatan rata - rata transaksi μ > 100"
   ]
  },
  {
   "cell_type": "markdown",
   "id": "56cb6013-aada-4dec-8d07-b7c846c4fc37",
   "metadata": {},
   "source": [
    "# T-Test"
   ]
  },
  {
   "cell_type": "code",
   "execution_count": 14,
   "id": "2f1ff0ea-6649-48a2-bac4-d5e3d632326c",
   "metadata": {},
   "outputs": [
    {
     "name": "stdout",
     "output_type": "stream",
     "text": [
      "T-statistic: 0.4085001556802841\n",
      "P-value: 0.6865284813438117\n",
      "Hasil: Gagal tolak H0 — Tidak ada peningkatan penjualan.\n"
     ]
    }
   ],
   "source": [
    "mu_0 = 100\n",
    "alpha = 0.05\n",
    "\n",
    "t_stat, p_val = stats.ttest_1samp(df['Transaction_Amount'], mu_0)\n",
    "\n",
    "print(\"T-statistic:\", t_stat)\n",
    "print(\"P-value:\", p_val)\n",
    "\n",
    "if p_val < alpha:\n",
    "    print(\"Hasil: Tolak H0 — Ada peningkatan penjualan.\")\n",
    "else:\n",
    "    print(\"Hasil: Gagal tolak H0 — Tidak ada peningkatan penjualan.\")"
   ]
  },
  {
   "cell_type": "markdown",
   "id": "0b1272b8-7e19-42df-a681-d41df0448e40",
   "metadata": {},
   "source": [
    "## Hasil T-Test\n",
    "- T-statistic: 0.4085\n",
    "- P-value: 0.686\n",
    "- Alpha: 0.05 (5%)\n",
    "\n",
    "Dengan p-value = 0.6865 > 0.05, hasil T-Test menunjukkan bahwa tidak ada perbedaan yang signifikan secara statistik antara rata-rata transaksi setelah training dan target awal sebesar 100."
   ]
  },
  {
   "cell_type": "code",
   "execution_count": null,
   "id": "632922fe-4c1a-4329-8632-f14fbb0818dc",
   "metadata": {},
   "outputs": [],
   "source": []
  }
 ],
 "metadata": {
  "kernelspec": {
   "display_name": "Python [conda env:base] *",
   "language": "python",
   "name": "conda-base-py"
  },
  "language_info": {
   "codemirror_mode": {
    "name": "ipython",
    "version": 3
   },
   "file_extension": ".py",
   "mimetype": "text/x-python",
   "name": "python",
   "nbconvert_exporter": "python",
   "pygments_lexer": "ipython3",
   "version": "3.12.3"
  }
 },
 "nbformat": 4,
 "nbformat_minor": 5
}
